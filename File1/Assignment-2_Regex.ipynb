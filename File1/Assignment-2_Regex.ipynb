{
 "cells": [
  {
   "cell_type": "code",
   "execution_count": 2,
   "id": "2f6980f5",
   "metadata": {},
   "outputs": [
    {
     "name": "stdout",
     "output_type": "stream",
     "text": [
      "Python:Exercises::PHP:exercises:\n"
     ]
    }
   ],
   "source": [
    "#Question-01\n",
    "\n",
    "text1 = \"Python Exercises, PHP exercises.\"\n",
    "\n",
    "import re\n",
    "\n",
    "pattern1 = re.sub(r'\\s+|[.,]', \":\", text1)\n",
    "print(pattern1)"
   ]
  },
  {
   "cell_type": "code",
   "execution_count": 42,
   "id": "fb9adc95",
   "metadata": {},
   "outputs": [
    {
     "name": "stdout",
     "output_type": "stream",
     "text": [
      "                  \n",
      "0     hello world \n",
      "1             test\n",
      "2   four five six \n"
     ]
    }
   ],
   "source": [
    "#Question-02\n",
    "\n",
    "text2 = {'SUMMARY' : ['hello, world!', 'XXXXX test', '123four, five:; six...']}\n",
    "\n",
    "filtering2 = []\n",
    "import re\n",
    "\n",
    "for texts2,values2 in enumerate(text2[\"SUMMARY\"]):\n",
    "    pattern2 = re.sub(r'\\W+|[X]|\\d+', \" \", values2)\n",
    "    filtering2.append(pattern2)\n",
    "                                \n",
    "import pandas as pd\n",
    "\n",
    "df2 = pd.DataFrame(filtering2, columns=[\"\"])\n",
    "                       \n",
    "print(df2)\n",
    "\n",
    "#use of editing column name done because of 0 was coming as column name"
   ]
  },
  {
   "cell_type": "code",
   "execution_count": 34,
   "id": "cef4097e",
   "metadata": {},
   "outputs": [
    {
     "name": "stdout",
     "output_type": "stream",
     "text": [
      "['name', 'Prajesh', 'currently', 'doing', 'internship', 'from', 'Flipnwork']\n"
     ]
    }
   ],
   "source": [
    "#Question-03\n",
    "\n",
    "import re\n",
    "\n",
    "def longstring(text3):\n",
    "    pattern3 = re.compile(r'\\b\\w{4,}\\b')\n",
    "    longwords = pattern3.findall(text3)\n",
    "    return longwords\n",
    "\n",
    "intro = \"My name is Prajesh, and currently I am doing an internship from Flipnwork.com\"\n",
    "print(longstring(intro))"
   ]
  },
  {
   "cell_type": "code",
   "execution_count": 49,
   "id": "f803cf21",
   "metadata": {},
   "outputs": [
    {
     "name": "stdout",
     "output_type": "stream",
     "text": [
      "(['and', 'com'], ['name', 'from'], ['doing'])\n"
     ]
    }
   ],
   "source": [
    "#Question-04\n",
    "\n",
    "import re\n",
    "\n",
    "def longstring_1(text4):\n",
    "    pattern4_3 = re.compile(r'\\b\\w{3}\\b')\n",
    "    pattern4_4 = re.compile(r'\\b\\w{4}\\b')\n",
    "    pattern4_5 = re.compile(r'\\b\\w{5}\\b')\n",
    "    \n",
    "    longwords_3 = pattern4_3.findall(text4)\n",
    "    longwords_4 = pattern4_4.findall(text4)\n",
    "    longwords_5 = pattern4_5.findall(text4)\n",
    "    \n",
    "    return longwords_3, longwords_4, longwords_5\n",
    "     \n",
    "    \n",
    "intro = \"My name is Prajesh, and currently I am doing an internship from Flipnwork.com\"\n",
    "print(longstring_1(intro))"
   ]
  },
  {
   "cell_type": "code",
   "execution_count": 97,
   "id": "cc39a41a",
   "metadata": {},
   "outputs": [
    {
     "name": "stdout",
     "output_type": "stream",
     "text": [
      "example.com\n",
      "hr@fliprobo.com\n",
      "github.com\n",
      "HelloDataScienceWorld\n",
      "DataScientist\n",
      "None\n"
     ]
    }
   ],
   "source": [
    "#Question-05\n",
    "\n",
    "import re\n",
    "def cleaning(text5):\n",
    "    pattern5 = re.compile(r'\\s*\\(*\\)*')    \n",
    "    \n",
    "    for texts5 in text5:\n",
    "        pattern5_1 = re.sub(pattern5, \"\", texts5)\n",
    "        print(pattern5_1)\n",
    "\n",
    "string5 = [\"example (.com)\", \"hr@fliprobo (.com)\", \"github (.com)\", \"Hello (Data Science World)\", \"Data (Scientist)\"]\n",
    "print(cleaning(string5))\n",
    "\n",
    "#couldnot remove the None at the end"
   ]
  },
  {
   "cell_type": "code",
   "execution_count": 107,
   "id": "65429fa0",
   "metadata": {},
   "outputs": [
    {
     "name": "stdout",
     "output_type": "stream",
     "text": [
      "['example', 'hr@fliprobo', 'github', 'Hello', 'Data']\n"
     ]
    }
   ],
   "source": [
    "#Question-06\n",
    "\n",
    "text6 = [\"example (.com)\", \"hr@fliprobo (.com)\", \"github (.com)\", \"Hello (Data Science World)\", \"Data (Scientist)\"]\n",
    "\n",
    "import re\n",
    "\n",
    "pattern6 = [re.sub(r'\\s*\\([^)]*\\)*', \"\", texts6) for texts6 in text6]\n",
    "\n",
    "print(pattern6)\n",
    "\n",
    "#use of for loop done"
   ]
  },
  {
   "cell_type": "code",
   "execution_count": 7,
   "id": "513ae870",
   "metadata": {},
   "outputs": [
    {
     "name": "stdout",
     "output_type": "stream",
     "text": [
      "['Importance', 'Of', 'Regular', 'Expressions', 'In', 'Python']\n"
     ]
    }
   ],
   "source": [
    "#Question-07\n",
    "\n",
    "text7 = \"ImportanceOfRegularExpressionsInPython\"\n",
    "\n",
    "import re\n",
    "\n",
    "pattern7 = re.findall(r'[A-Z][a-z]*', text7)\n",
    "\n",
    "print(pattern7)"
   ]
  },
  {
   "cell_type": "code",
   "execution_count": 31,
   "id": "b80f5565",
   "metadata": {},
   "outputs": [
    {
     "name": "stdout",
     "output_type": "stream",
     "text": [
      "RegularExpression 1IsAn 2ImportantTopic 3InPython\n"
     ]
    }
   ],
   "source": [
    "#Question-08\n",
    "\n",
    "import re\n",
    "\n",
    "def addingspace1(text8):\n",
    "    pattern8 = r'(\\d)'\n",
    "    match8 = re.sub(pattern8, \" \\g<1>\", text8)\n",
    "    return match8\n",
    "\n",
    "string8 = \"RegularExpression1IsAn2ImportantTopic3InPython\"\n",
    "print(addingspace1(string8))\n",
    "\n",
    "#use of Backreference taken"
   ]
  },
  {
   "cell_type": "code",
   "execution_count": 33,
   "id": "63856e78",
   "metadata": {},
   "outputs": [
    {
     "name": "stdout",
     "output_type": "stream",
     "text": [
      " Regular Expression 1 Is An 2 Important Topic 3 In Python\n"
     ]
    }
   ],
   "source": [
    "#Question-09\n",
    "\n",
    "import re\n",
    "\n",
    "def addingspace2(text9):\n",
    "    pattern9 = r'(\\d|[A-Z])'\n",
    "    match9 = re.sub(pattern9, \" \\g<1>\", text9)\n",
    "    return match9\n",
    "\n",
    "string9 = \"RegularExpression1IsAn2ImportantTopic3InPython\"\n",
    "print(addingspace2(string9))"
   ]
  },
  {
   "cell_type": "code",
   "execution_count": 51,
   "id": "a2ad5fee",
   "metadata": {},
   "outputs": [
    {
     "name": "stdout",
     "output_type": "stream",
     "text": [
      "       Country          Region  Happiness Rank  Happiness Score  \\\n",
      "0  Switzerland  Western Europe               1            7.587   \n",
      "1      Iceland  Western Europe               2            7.561   \n",
      "2      Denmark  Western Europe               3            7.527   \n",
      "3       Norway  Western Europe               4            7.522   \n",
      "4       Canada   North America               5            7.427   \n",
      "\n",
      "   Standard Error  Economy (GDP per Capita)   Family  \\\n",
      "0         0.03411                   1.39651  1.34951   \n",
      "1         0.04884                   1.30232  1.40223   \n",
      "2         0.03328                   1.32548  1.36058   \n",
      "3         0.03880                   1.45900  1.33095   \n",
      "4         0.03553                   1.32629  1.32261   \n",
      "\n",
      "   Health (Life Expectancy)  Freedom  Trust (Government Corruption)  \\\n",
      "0                   0.94143  0.66557                        0.41978   \n",
      "1                   0.94784  0.62877                        0.14145   \n",
      "2                   0.87464  0.64938                        0.48357   \n",
      "3                   0.88521  0.66973                        0.36503   \n",
      "4                   0.90563  0.63297                        0.32957   \n",
      "\n",
      "   Generosity  Dystopia Residual First_five_letters  \n",
      "0     0.29678            2.51738             Switze  \n",
      "1     0.43630            2.70201             Icelan  \n",
      "2     0.34139            2.49204             Denmar  \n",
      "3     0.34699            2.46531             Norway  \n",
      "4     0.45811            2.45176             Canada  \n"
     ]
    }
   ],
   "source": [
    "#Question-10\n",
    "\n",
    "import pandas as pd\n",
    "\n",
    "import requests \n",
    "\n",
    "link = \"https://raw.githubusercontent.com/dsrscientist/DSData/master/happiness_score_dataset.csv\"\n",
    "requests.get(link)\n",
    "\n",
    "df10 = pd.read_csv(link)\n",
    "\n",
    "df10[\"First_five_letters\"] = df10[\"Country\"].str[:6]\n",
    "\n",
    "print(df10.head())"
   ]
  },
  {
   "cell_type": "code",
   "execution_count": 75,
   "id": "a06229df",
   "metadata": {},
   "outputs": [
    {
     "name": "stdout",
     "output_type": "stream",
     "text": [
      "<re.Match object; span=(0, 28), match='Iamdoingthis3assignmentatmy2'>\n"
     ]
    }
   ],
   "source": [
    "#Question-11\n",
    "\n",
    "import re\n",
    "def matchstring(text11):\n",
    "    pattern11 = re.match(r'[A-Za-z\\d\\_]+', text11)\n",
    "    return pattern11\n",
    "\n",
    "string11 = \"Iamdoingthis3assignmentatmy2@home\"\n",
    "print(matchstring(string11))"
   ]
  },
  {
   "cell_type": "code",
   "execution_count": 76,
   "id": "52f651ff",
   "metadata": {},
   "outputs": [
    {
     "name": "stdout",
     "output_type": "stream",
     "text": [
      "123prajesh\n",
      "<re.Match object; span=(0, 3), match='123'>\n"
     ]
    }
   ],
   "source": [
    "#Question-12\n",
    "\n",
    "import re\n",
    "def stringcheck(string12):\n",
    "    pattern12 = re.match(r'^\\d+', string12)\n",
    "    return pattern12\n",
    "\n",
    "text12 = input()\n",
    "print(stringcheck(text12))"
   ]
  },
  {
   "cell_type": "code",
   "execution_count": 95,
   "id": "6792b77e",
   "metadata": {},
   "outputs": [
    {
     "name": "stdout",
     "output_type": "stream",
     "text": [
      "101.1.121.35.2\n"
     ]
    }
   ],
   "source": [
    "#Question-13\n",
    "\n",
    "import re\n",
    "def zeroremoval(text13):\n",
    "    pattern13 = r'(?<!\\.\\d)(?<=\\D)0+(\\d+)'\n",
    "    filtering13 = re.sub(pattern13, r\"\\1\", text13)\n",
    "    return filtering13\n",
    "\n",
    "string13 = \"101.001.121.35.002\"\n",
    "print(zeroremoval(string13))"
   ]
  },
  {
   "cell_type": "code",
   "execution_count": 96,
   "id": "291931eb",
   "metadata": {},
   "outputs": [
    {
     "name": "stdout",
     "output_type": "stream",
     "text": [
      "['August 15th 1947']\n"
     ]
    }
   ],
   "source": [
    "#Question-14\n",
    "\n",
    "import re\n",
    "text14 = \"On August 15th 1947 that India was declared independent from British colonialism, and the reins of control were handed over to the leaders of the Country\"\n",
    "\n",
    "pattern14 = re.findall(r'[A-Z][a-z]*\\s+\\d+[a-z]*\\s+\\d+', text14)\n",
    "\n",
    "print(pattern14)"
   ]
  },
  {
   "cell_type": "code",
   "execution_count": 97,
   "id": "b671c9d6",
   "metadata": {},
   "outputs": [
    {
     "name": "stdout",
     "output_type": "stream",
     "text": [
      "['fox', 'dog']\n"
     ]
    }
   ],
   "source": [
    "#Question-15\n",
    "\n",
    "import re\n",
    "text15 = \"The quick brown fox jumps over the lazy dog.\"\n",
    "\n",
    "pattern15 = \"fox|dog|horse\"\n",
    "\n",
    "match15 = re.findall(pattern15, text15)\n",
    "\n",
    "print(match15)"
   ]
  },
  {
   "cell_type": "code",
   "execution_count": 100,
   "id": "f4221791",
   "metadata": {},
   "outputs": [
    {
     "name": "stdout",
     "output_type": "stream",
     "text": [
      "<re.Match object; span=(16, 19), match='fox'>\n"
     ]
    }
   ],
   "source": [
    "#Question-16\n",
    "\n",
    "import re\n",
    "text16 = \"The quick brown fox jumps over the lazy dog.\"\n",
    "\n",
    "pattern16 = \"fox\"\n",
    "\n",
    "match16 = re.search(pattern16, text16)\n",
    "\n",
    "print(match16)"
   ]
  },
  {
   "cell_type": "code",
   "execution_count": 105,
   "id": "13a829ab",
   "metadata": {},
   "outputs": [
    {
     "name": "stdout",
     "output_type": "stream",
     "text": [
      "['exercises', 'exercises', 'exercises']\n"
     ]
    }
   ],
   "source": [
    "#Question-17\n",
    "\n",
    "import re\n",
    "text17 = \"Python exercises, PHP exercises, C# exercises\"\n",
    "\n",
    "pattern17 = \"exercises\"\n",
    "\n",
    "substring17 = re.findall(pattern17, text17)\n",
    "\n",
    "print(substring17)"
   ]
  },
  {
   "cell_type": "code",
   "execution_count": 135,
   "id": "52ffd3bd",
   "metadata": {},
   "outputs": [
    {
     "name": "stdout",
     "output_type": "stream",
     "text": [
      "Enter a searching word: subject\n",
      "<re.Match object; span=(4, 11), match='subject'>\n"
     ]
    }
   ],
   "source": [
    "#Question-18\n",
    "\n",
    "import re\n",
    "def findsubstring(text18):\n",
    "    pattern18 = input(\"Enter a searching word: \")\n",
    "    match18 = re.search(pattern18, text18)\n",
    "    return match18\n",
    "\n",
    "string18 = \"The subject is Data Science\"\n",
    "print(findsubstring(string18))"
   ]
  },
  {
   "cell_type": "code",
   "execution_count": 138,
   "id": "5d0ec3fe",
   "metadata": {},
   "outputs": [
    {
     "name": "stdout",
     "output_type": "stream",
     "text": [
      "dd-mm-yyyy\n"
     ]
    }
   ],
   "source": [
    "#Question-19\n",
    "\n",
    "import re\n",
    "\n",
    "text19 = \"yyyy-mm-dd\"\n",
    "\n",
    "pattern19 = r'(\\w{4})-(\\w{2})-(\\w{2})'\n",
    "\n",
    "match19=re.sub(pattern19, r\"\\3-\\2-\\1\", text19)\n",
    "\n",
    "print(match19)"
   ]
  },
  {
   "cell_type": "code",
   "execution_count": 165,
   "id": "77c84ad3",
   "metadata": {},
   "outputs": [
    {
     "name": "stdout",
     "output_type": "stream",
     "text": [
      "['01.12', '145.8', '3.01', '27.25', '0.25']\n"
     ]
    }
   ],
   "source": [
    "#Question-20\n",
    "\n",
    "import re\n",
    "text20 = \"01.12 0132.123 2.31875 145.8 3.01 27.25 0.25\"\n",
    "\n",
    "pattern20 = re.compile(r'\\d+\\.\\d{1,2}(?=\\s|$)')\n",
    "                       \n",
    "match20 = pattern20.findall(text20)\n",
    "                       \n",
    "print(match20)"
   ]
  },
  {
   "cell_type": "code",
   "execution_count": 170,
   "id": "6bf35899",
   "metadata": {},
   "outputs": [
    {
     "name": "stdout",
     "output_type": "stream",
     "text": [
      "Position: 1, Value: 01.12\n",
      "Position: 2, Value: 0132.123\n",
      "Position: 3, Value: 2.31875\n",
      "Position: 4, Value: 145.8\n",
      "Position: 5, Value: 3.01\n",
      "Position: 6, Value: 27.25\n",
      "Position: 7, Value: 0.25\n"
     ]
    }
   ],
   "source": [
    "#Question-21\n",
    "\n",
    "import re\n",
    "text21 = \"01.12 0132.123 2.31875 145.8 3.01 27.25 0.25\"\n",
    "\n",
    "pattern21 = re.split(r'\\s+', text21)\n",
    "\n",
    "for index21,element21 in enumerate(pattern21, 1):\n",
    "    print(f\"Position: {index21}, Value: {element21}\")\n"
   ]
  },
  {
   "cell_type": "code",
   "execution_count": 171,
   "id": "28e181ef",
   "metadata": {},
   "outputs": [
    {
     "name": "stdout",
     "output_type": "stream",
     "text": [
      "950\n"
     ]
    }
   ],
   "source": [
    "#Question-22\n",
    "\n",
    "text22 = 'My marks in each semester are: 947, 896, 926, 524, 734, 950, 642'\n",
    "\n",
    "import re\n",
    "\n",
    "pattern22 = re.findall(r'\\b\\d+\\b', text22)\n",
    "\n",
    "maxnum22 = max(map(int, pattern22))\n",
    "\n",
    "print(maxnum22)"
   ]
  },
  {
   "cell_type": "code",
   "execution_count": 172,
   "id": "c9cc9140",
   "metadata": {},
   "outputs": [
    {
     "name": "stdout",
     "output_type": "stream",
     "text": [
      " Regular Expression Is An Important Topic In Python\n"
     ]
    }
   ],
   "source": [
    "#Question-23\n",
    "\n",
    "import re\n",
    "text23 = \"RegularExpressionIsAnImportantTopicInPython\"\n",
    "\n",
    "pattern23 = r'([A-Z])'\n",
    "match23 = re.sub(pattern23, \" \\g<1>\", text23)\n",
    "print(match23)"
   ]
  },
  {
   "cell_type": "code",
   "execution_count": 183,
   "id": "999ec262",
   "metadata": {},
   "outputs": [
    {
     "name": "stdout",
     "output_type": "stream",
     "text": [
      "My nAme is Prajesh dAVE\n",
      "['My', 'Ame', 'Prajesh']\n"
     ]
    }
   ],
   "source": [
    "#Question-24\n",
    "\n",
    "import re\n",
    "text24 = input()\n",
    "pattern24 = re.findall(r'[A-Z][a-z]+', text24)\n",
    "print(pattern24)"
   ]
  },
  {
   "cell_type": "code",
   "execution_count": 222,
   "id": "e3782529",
   "metadata": {},
   "outputs": [
    {
     "name": "stdout",
     "output_type": "stream",
     "text": [
      "Hello world\n"
     ]
    }
   ],
   "source": [
    "#Question-25\n",
    "\n",
    "import re\n",
    "pattern25 = r'\\b(\\w+)(?:\\W+\\1\\b)+'\n",
    "\n",
    "text25 = \"Hello hello world world\"\n",
    "\n",
    "match25 = re.sub(pattern25, r\"\\1\", text25, flags=re.IGNORECASE)\n",
    "\n",
    "print(match25)"
   ]
  },
  {
   "cell_type": "code",
   "execution_count": 233,
   "id": "5ac44fd9",
   "metadata": {},
   "outputs": [
    {
     "name": "stdout",
     "output_type": "stream",
     "text": [
      "Prajesh@\n",
      "None\n"
     ]
    }
   ],
   "source": [
    "#Question-26\n",
    "\n",
    "import re\n",
    "text26 = input()\n",
    "pattern26 = re.match(r'.*\\w$', text26)\n",
    "print(pattern26)"
   ]
  },
  {
   "cell_type": "code",
   "execution_count": 236,
   "id": "9e10dfd0",
   "metadata": {},
   "outputs": [
    {
     "name": "stdout",
     "output_type": "stream",
     "text": [
      "['#Doltiwal', '#xyzabc', '#Demonetization']\n"
     ]
    }
   ],
   "source": [
    "#Question-27\n",
    "\n",
    "import re\n",
    "\n",
    "text27 = \"\"\"RT @kapil_kausik: #Doltiwal I mean #xyzabc is \"hurt\" by #Demonetization as the same has rendered USELESS <ed><U+00A0><U+00BD><ed><U+00B1><U+0089> \"acquired funds\" No wo\"\"\"\n",
    "\n",
    "pattern27 = r'\\#\\w+'\n",
    "\n",
    "match27 = re.findall(pattern27, text27)\n",
    "\n",
    "print(match27)"
   ]
  },
  {
   "cell_type": "code",
   "execution_count": 252,
   "id": "6ef4cfcb",
   "metadata": {},
   "outputs": [
    {
     "name": "stdout",
     "output_type": "stream",
     "text": [
      "@Jags123456 Bharat band on 28??<ed><ed>Those who  are protesting #demonetization  are all different party leaders\n"
     ]
    }
   ],
   "source": [
    "#Question-28\n",
    "\n",
    "import re\n",
    "text28 = \"@Jags123456 Bharat band on 28??<ed><U+00A0><U+00BD><ed><U+00B8><U+0082>Those who  are protesting #demonetization  are all different party leaders\"\n",
    "\n",
    "pattern28 = r'\\<[A-Z]\\+\\w{4}\\>'\n",
    "\n",
    "match28 = re.sub(pattern28, \"\", text28)\n",
    "\n",
    "print(match28)"
   ]
  },
  {
   "cell_type": "code",
   "execution_count": 255,
   "id": "cfe1d90f",
   "metadata": {},
   "outputs": [
    {
     "name": "stdout",
     "output_type": "stream",
     "text": [
      "['12-09-1992', '15-12-1999']\n"
     ]
    }
   ],
   "source": [
    "#Question-29\n",
    "\n",
    "import re\n",
    "text29 = \"Ron was born on 12-09-1992 and he was admitted to school 15-12-1999.\"\n",
    "\n",
    "pattern29 = re.findall(r'\\d{2}\\-\\d{2}\\-\\d{4}', text29)\n",
    "                       \n",
    "print(pattern29)"
   ]
  },
  {
   "cell_type": "code",
   "execution_count": 262,
   "id": "837ba005",
   "metadata": {},
   "outputs": [
    {
     "name": "stdout",
     "output_type": "stream",
     "text": [
      " following example creates  ArrayList  a capacity   elements. 4 elements   added   ArrayList   ArrayList  trimmed accordingly.\n"
     ]
    }
   ],
   "source": [
    "#Question-30\n",
    "\n",
    "import re\n",
    "text30 = \"The following example creates an ArrayList with a capacity of 50 elements. 4 elements are then added to the ArrayList and the ArrayList is trimmed accordingly.\"\n",
    "\n",
    "pattern30 = re.sub(r'\\b\\w{2,4}\\b', \"\", text30)\n",
    "\n",
    "print(pattern30)"
   ]
  }
 ],
 "metadata": {
  "kernelspec": {
   "display_name": "Python 3 (ipykernel)",
   "language": "python",
   "name": "python3"
  },
  "language_info": {
   "codemirror_mode": {
    "name": "ipython",
    "version": 3
   },
   "file_extension": ".py",
   "mimetype": "text/x-python",
   "name": "python",
   "nbconvert_exporter": "python",
   "pygments_lexer": "ipython3",
   "version": "3.11.5"
  }
 },
 "nbformat": 4,
 "nbformat_minor": 5
}
